{
 "cells": [
  {
   "cell_type": "markdown",
   "metadata": {
    "colab_type": "text",
    "id": "view-in-github"
   },
   "source": [
    "<a href=\"https://colab.research.google.com/github/Jason-Adam/msds-462/blob/master/fashion_mnist.ipynb\" target=\"_parent\"><img src=\"https://colab.research.google.com/assets/colab-badge.svg\" alt=\"Open In Colab\"/></a>"
   ]
  },
  {
   "cell_type": "markdown",
   "metadata": {
    "colab_type": "text",
    "id": "6pa9_rrL5TRK"
   },
   "source": [
    "# MSDS-462 Week 1: Fashion MNIST Classification  \n",
    "Objective: Build a classification model on the Kaggle Fashion MNIST Data Set "
   ]
  },
  {
   "cell_type": "markdown",
   "metadata": {
    "colab_type": "text",
    "id": "c-nkiOUVtu_s"
   },
   "source": [
    "# Initial Imports & Data Ingest"
   ]
  },
  {
   "cell_type": "markdown",
   "metadata": {
    "colab_type": "text",
    "id": "i_9U1mvK_7YE"
   },
   "source": [
    "## Initial Imports"
   ]
  },
  {
   "cell_type": "code",
   "execution_count": null,
   "metadata": {
    "colab": {},
    "colab_type": "code",
    "id": "TrTJZEPO_9pZ"
   },
   "outputs": [],
   "source": [
    "import matplotlib.pyplot as plt\n",
    "import numpy as np\n",
    "import pandas as pd\n",
    "from sklearn.model_selection import train_test_split\n",
    "\n",
    "import tensorflow as tf\n",
    "from tensorflow.keras import layers"
   ]
  },
  {
   "cell_type": "markdown",
   "metadata": {
    "colab_type": "text",
    "id": "b95XwBvK7uy-"
   },
   "source": [
    "## Wire Up Gdrive"
   ]
  },
  {
   "cell_type": "code",
   "execution_count": 2,
   "metadata": {
    "colab": {
     "base_uri": "https://localhost:8080/",
     "height": 124
    },
    "colab_type": "code",
    "id": "BBH2gQVE8Bf-",
    "outputId": "807a3e53-1ad2-486b-d9b7-5451e3007fb5"
   },
   "outputs": [
    {
     "name": "stdout",
     "output_type": "stream",
     "text": [
      "Go to this URL in a browser: https://accounts.google.com/o/oauth2/auth?client_id=947318989803-6bn6qk8qdgf4n4g3pfee6491hc0brc4i.apps.googleusercontent.com&redirect_uri=urn%3Aietf%3Awg%3Aoauth%3A2.0%3Aoob&scope=email%20https%3A%2F%2Fwww.googleapis.com%2Fauth%2Fdocs.test%20https%3A%2F%2Fwww.googleapis.com%2Fauth%2Fdrive%20https%3A%2F%2Fwww.googleapis.com%2Fauth%2Fdrive.photos.readonly%20https%3A%2F%2Fwww.googleapis.com%2Fauth%2Fpeopleapi.readonly&response_type=code\n",
      "\n",
      "Enter your authorization code:\n",
      "··········\n",
      "Mounted at /content/gdrive\n"
     ]
    }
   ],
   "source": [
    "# Mount Gdrive\n",
    "from google.colab import drive\n",
    "drive.mount(\"/content/gdrive\")"
   ]
  },
  {
   "cell_type": "code",
   "execution_count": 3,
   "metadata": {
    "colab": {
     "base_uri": "https://localhost:8080/",
     "height": 52
    },
    "colab_type": "code",
    "id": "xMiuyTvA9u55",
    "outputId": "bcad5ac4-1ef8-45a0-b2ee-c6819b638bf0"
   },
   "outputs": [
    {
     "name": "stdout",
     "output_type": "stream",
     "text": [
      "fashion-mnist_test.csv\t t10k-images-idx3-ubyte  train-images-idx3-ubyte\n",
      "fashion-mnist_train.csv  t10k-labels-idx1-ubyte  train-labels-idx1-ubyte\n"
     ]
    }
   ],
   "source": [
    "!ls /content/gdrive/My\\ Drive/data/fashion_mnist/"
   ]
  },
  {
   "cell_type": "markdown",
   "metadata": {
    "colab_type": "text",
    "id": "u9dUlufH_KIu"
   },
   "source": [
    "## Data Ingest"
   ]
  },
  {
   "cell_type": "code",
   "execution_count": null,
   "metadata": {
    "colab": {},
    "colab_type": "code",
    "id": "6YcN48Oe_oy7"
   },
   "outputs": [],
   "source": [
    "train_df = pd.read_csv(\"/content/gdrive/My Drive/data/fashion_mnist/fashion-mnist_train.csv\")\n",
    "test_df = pd.read_csv(\"/content/gdrive/My Drive/data/fashion_mnist/fashion-mnist_test.csv\")"
   ]
  },
  {
   "cell_type": "code",
   "execution_count": 5,
   "metadata": {
    "colab": {
     "base_uri": "https://localhost:8080/",
     "height": 52
    },
    "colab_type": "code",
    "id": "OYkGUMs1ApJZ",
    "outputId": "76bde7a1-14d5-42d2-8eb5-8de67fa2d4f1"
   },
   "outputs": [
    {
     "name": "stdout",
     "output_type": "stream",
     "text": [
      "(60000, 785)\n",
      "(10000, 785)\n"
     ]
    }
   ],
   "source": [
    "print(train_df.shape)\n",
    "print(test_df.shape)"
   ]
  },
  {
   "cell_type": "markdown",
   "metadata": {
    "colab_type": "text",
    "id": "akMYDs5pB9L5"
   },
   "source": [
    "### Split Training Data  \n",
    "* Split the training into train and validate  \n",
    "* Split out X and y from each dataset (format needed for model)"
   ]
  },
  {
   "cell_type": "code",
   "execution_count": null,
   "metadata": {
    "colab": {},
    "colab_type": "code",
    "id": "65f67nKGEkN9"
   },
   "outputs": [],
   "source": [
    "img_rows, img_cols = 28, 28\n",
    "input_shape = (img_rows, img_cols, 1)\n",
    "\n",
    "# Separate dependent and independent vars\n",
    "X = np.array(train_df.iloc[:, 1:])\n",
    "y = tf.keras.utils.to_categorical(np.array(train_df.iloc[:, 0]))\n",
    "\n",
    "# Split out validation set\n",
    "X_train, X_val, y_train, y_val = train_test_split(X, y, test_size=0.2, random_state=13)\n",
    "\n",
    "#Test data\n",
    "X_test = np.array(test_df.iloc[:, 1:])\n",
    "y_test = tf.keras.utils.to_categorical(np.array(test_df.iloc[:, 0]))\n",
    "\n",
    "X_train = X_train.reshape(X_train.shape[0], img_rows, img_cols, 1)\n",
    "X_test = X_test.reshape(X_test.shape[0], img_rows, img_cols, 1)\n",
    "X_val = X_val.reshape(X_val.shape[0], img_rows, img_cols, 1)\n",
    "\n",
    "# Convert to float\n",
    "X_train = X_train.astype('float32')\n",
    "X_test = X_test.astype('float32')\n",
    "X_val = X_val.astype('float32')"
   ]
  },
  {
   "cell_type": "code",
   "execution_count": 7,
   "metadata": {
    "colab": {
     "base_uri": "https://localhost:8080/",
     "height": 69
    },
    "colab_type": "code",
    "id": "Sf-efsz7ezUV",
    "outputId": "36b68f12-4549-48f8-a2ad-58341be7ab77"
   },
   "outputs": [
    {
     "name": "stdout",
     "output_type": "stream",
     "text": [
      "(48000, 28, 28, 1)\n",
      "(12000, 28, 28, 1)\n",
      "(10000, 28, 28, 1)\n"
     ]
    }
   ],
   "source": [
    "# Validate reshaping\n",
    "print(X_train.shape)\n",
    "print(X_val.shape)\n",
    "print(X_test.shape)"
   ]
  },
  {
   "cell_type": "code",
   "execution_count": 8,
   "metadata": {
    "colab": {
     "base_uri": "https://localhost:8080/",
     "height": 69
    },
    "colab_type": "code",
    "id": "aqLTIsOOfI3u",
    "outputId": "fe6a29a9-7c6e-471c-b686-e1131b2e459f"
   },
   "outputs": [
    {
     "name": "stdout",
     "output_type": "stream",
     "text": [
      "(48000, 10)\n",
      "(12000, 10)\n",
      "(10000, 10)\n"
     ]
    }
   ],
   "source": [
    "# Validate reshaping\n",
    "print(y_train.shape)\n",
    "print(y_val.shape)\n",
    "print(y_test.shape)"
   ]
  },
  {
   "cell_type": "markdown",
   "metadata": {
    "colab_type": "text",
    "id": "gRbpq8Lwtn_Z"
   },
   "source": [
    "# EDA"
   ]
  },
  {
   "cell_type": "code",
   "execution_count": 35,
   "metadata": {
    "colab": {
     "base_uri": "https://localhost:8080/",
     "height": 269
    },
    "colab_type": "code",
    "id": "mCnPGmXZt1bV",
    "outputId": "38d9c854-a9b8-415a-b722-44252a644e90"
   },
   "outputs": [
    {
     "data": {
      "image/png": "[encoded data removed]",
      "text/plain": [
       "<Figure size 432x288 with 9 Axes>"
      ]
     },
     "metadata": {
      "tags": []
     },
     "output_type": "display_data"
    }
   ],
   "source": [
    "# Sample Plots\n",
    "for num in range(0, 9):\n",
    "    plt.subplot(3, 3, num+1)\n",
    "    plt.imshow(X_test[num].reshape(28, 28), cmap=\"gray\")"
   ]
  },
  {
   "cell_type": "code",
   "execution_count": 41,
   "metadata": {
    "colab": {
     "base_uri": "https://localhost:8080/",
     "height": 104
    },
    "colab_type": "code",
    "id": "gvsiCAlcwh9K",
    "outputId": "4f5e0a06-0595-496f-d655-37b82854fd43"
   },
   "outputs": [
    {
     "name": "stdout",
     "output_type": "stream",
     "text": [
      "pandas                   0.24.2               \n",
      "pandas-datareader        0.7.4                \n",
      "pandas-gbq               0.4.1                \n",
      "pandas-profiling         1.4.1                \n",
      "sklearn-pandas           1.8.0                \n"
     ]
    }
   ],
   "source": [
    "!pip list | grep pandas"
   ]
  },
  {
   "cell_type": "code",
   "execution_count": null,
   "metadata": {
    "colab": {},
    "colab_type": "code",
    "id": "J2WE4-BuwvrO"
   },
   "outputs": [],
   "source": [
    "!pip install pandas==0.25.1"
   ]
  },
  {
   "cell_type": "code",
   "execution_count": 42,
   "metadata": {
    "colab": {
     "base_uri": "https://localhost:8080/",
     "height": 394
    },
    "colab_type": "code",
    "id": "nPe7e7Ahu8MJ",
    "outputId": "90569267-9bf8-4ce4-b79a-db4544c51e28"
   },
   "outputs": [
    {
     "data": {
      "text/html": [
       "<div>\n",
       "<style scoped>\n",
       "    .dataframe tbody tr th:only-of-type {\n",
       "        vertical-align: middle;\n",
       "    }\n",
       "\n",
       "    .dataframe tbody tr th {\n",
       "        vertical-align: top;\n",
       "    }\n",
       "\n",
       "    .dataframe thead th {\n",
       "        text-align: right;\n",
       "    }\n",
       "</style>\n",
       "<table border=\"1\" class=\"dataframe\">\n",
       "  <thead>\n",
       "    <tr style=\"text-align: right;\">\n",
       "      <th></th>\n",
       "      <th>label</th>\n",
       "    </tr>\n",
       "    <tr>\n",
       "      <th>label</th>\n",
       "      <th></th>\n",
       "    </tr>\n",
       "  </thead>\n",
       "  <tbody>\n",
       "    <tr>\n",
       "      <th>0</th>\n",
       "      <td>6000</td>\n",
       "    </tr>\n",
       "    <tr>\n",
       "      <th>1</th>\n",
       "      <td>6000</td>\n",
       "    </tr>\n",
       "    <tr>\n",
       "      <th>2</th>\n",
       "      <td>6000</td>\n",
       "    </tr>\n",
       "    <tr>\n",
       "      <th>3</th>\n",
       "      <td>6000</td>\n",
       "    </tr>\n",
       "    <tr>\n",
       "      <th>4</th>\n",
       "      <td>6000</td>\n",
       "    </tr>\n",
       "    <tr>\n",
       "      <th>5</th>\n",
       "      <td>6000</td>\n",
       "    </tr>\n",
       "    <tr>\n",
       "      <th>6</th>\n",
       "      <td>6000</td>\n",
       "    </tr>\n",
       "    <tr>\n",
       "      <th>7</th>\n",
       "      <td>6000</td>\n",
       "    </tr>\n",
       "    <tr>\n",
       "      <th>8</th>\n",
       "      <td>6000</td>\n",
       "    </tr>\n",
       "    <tr>\n",
       "      <th>9</th>\n",
       "      <td>6000</td>\n",
       "    </tr>\n",
       "  </tbody>\n",
       "</table>\n",
       "</div>"
      ],
      "text/plain": [
       "       label\n",
       "label       \n",
       "0       6000\n",
       "1       6000\n",
       "2       6000\n",
       "3       6000\n",
       "4       6000\n",
       "5       6000\n",
       "6       6000\n",
       "7       6000\n",
       "8       6000\n",
       "9       6000"
      ]
     },
     "execution_count": 42,
     "metadata": {
      "tags": []
     },
     "output_type": "execute_result"
    }
   ],
   "source": [
    "train_df.groupby([\"label\"]).agg(\n",
    "    {\n",
    "        \"label\": \"count\"\n",
    "    }\n",
    ")"
   ]
  },
  {
   "cell_type": "markdown",
   "metadata": {
    "colab_type": "text",
    "id": "281qJbWDfYnH"
   },
   "source": [
    "# Modeling  "
   ]
  },
  {
   "cell_type": "markdown",
   "metadata": {
    "colab_type": "text",
    "id": "AXuMUVUAxqj9"
   },
   "source": [
    "## First Model: 2 Convolutional Layers"
   ]
  },
  {
   "cell_type": "code",
   "execution_count": 9,
   "metadata": {
    "colab": {
     "base_uri": "https://localhost:8080/",
     "height": 89
    },
    "colab_type": "code",
    "id": "caLBy9s-gmc_",
    "outputId": "aea2ccbe-4c1a-457a-a5ef-fb7777f9d291"
   },
   "outputs": [
    {
     "name": "stdout",
     "output_type": "stream",
     "text": [
      "WARNING:tensorflow:From /usr/local/lib/python3.6/dist-packages/tensorflow/python/ops/init_ops.py:1251: calling VarianceScaling.__init__ (from tensorflow.python.ops.init_ops) with dtype is deprecated and will be removed in a future version.\n",
      "Instructions for updating:\n",
      "Call initializer instance with the dtype argument instead of passing it to the constructor\n"
     ]
    }
   ],
   "source": [
    "# Model Params\n",
    "BATCH_SIZE = 256\n",
    "NUM_CLASSES = 10\n",
    "EPOCHS = 50\n",
    "\n",
    "# Instantiate model object\n",
    "model = tf.keras.models.Sequential()\n",
    "\n",
    "# First Convolutional Layer\n",
    "model.add(layers.Conv2D(\n",
    "    filters=32, \n",
    "    kernel_size=(3, 3), \n",
    "    activation=\"relu\",\n",
    "    input_shape=input_shape)\n",
    ")\n",
    "model.add(layers.MaxPool2D())\n",
    "model.add(layers.Dropout(0.2))\n",
    "\n",
    "# Second Conv Layer\n",
    "model.add(layers.Conv2D(filters=64, kernel_size=(3, 3), activation=\"relu\"))\n",
    "model.add(layers.MaxPool2D())\n",
    "model.add(layers.Dropout(0.2))\n",
    "\n",
    "# Flatten\n",
    "model.add(layers.Flatten())\n",
    "model.add(layers.Dense(64, activation=\"relu\"))\n",
    "model.add(layers.Dense(NUM_CLASSES, activation=\"softmax\"))\n",
    "\n",
    "# Compile\n",
    "model.compile(\n",
    "    loss=tf.keras.losses.categorical_crossentropy,\n",
    "    optimizer=tf.keras.optimizers.RMSprop(),\n",
    "    metrics=[\"accuracy\"]\n",
    "    )"
   ]
  },
  {
   "cell_type": "code",
   "execution_count": 10,
   "metadata": {
    "colab": {
     "base_uri": "https://localhost:8080/",
     "height": 469
    },
    "colab_type": "code",
    "id": "YqlyMMz_l57l",
    "outputId": "e66d0333-4074-4d49-8445-ddcdac37f12a"
   },
   "outputs": [
    {
     "name": "stdout",
     "output_type": "stream",
     "text": [
      "Model: \"sequential\"\n",
      "_________________________________________________________________\n",
      "Layer (type)                 Output Shape              Param #   \n",
      "=================================================================\n",
      "conv2d (Conv2D)              (None, 26, 26, 32)        320       \n",
      "_________________________________________________________________\n",
      "max_pooling2d (MaxPooling2D) (None, 13, 13, 32)        0         \n",
      "_________________________________________________________________\n",
      "dropout (Dropout)            (None, 13, 13, 32)        0         \n",
      "_________________________________________________________________\n",
      "conv2d_1 (Conv2D)            (None, 11, 11, 64)        18496     \n",
      "_________________________________________________________________\n",
      "max_pooling2d_1 (MaxPooling2 (None, 5, 5, 64)          0         \n",
      "_________________________________________________________________\n",
      "dropout_1 (Dropout)          (None, 5, 5, 64)          0         \n",
      "_________________________________________________________________\n",
      "flatten (Flatten)            (None, 1600)              0         \n",
      "_________________________________________________________________\n",
      "dense (Dense)                (None, 64)                102464    \n",
      "_________________________________________________________________\n",
      "dense_1 (Dense)              (None, 10)                650       \n",
      "=================================================================\n",
      "Total params: 121,930\n",
      "Trainable params: 121,930\n",
      "Non-trainable params: 0\n",
      "_________________________________________________________________\n"
     ]
    }
   ],
   "source": [
    "model.summary()"
   ]
  },
  {
   "cell_type": "code",
   "execution_count": 11,
   "metadata": {
    "colab": {
     "base_uri": "https://localhost:8080/",
     "height": 1000
    },
    "colab_type": "code",
    "id": "2_Oo_lwYmAIJ",
    "outputId": "2627dfaf-4012-49a7-a0f4-3056d182d65e"
   },
   "outputs": [
    {
     "name": "stdout",
     "output_type": "stream",
     "text": [
      "Train on 48000 samples, validate on 12000 samples\n",
      "Epoch 1/50\n",
      "48000/48000 [==============================] - 5s 115us/sample - loss: 1.7503 - acc: 0.6817 - val_loss: 0.4708 - val_acc: 0.8238\n",
      "Epoch 2/50\n",
      "48000/48000 [==============================] - 3s 57us/sample - loss: 0.4512 - acc: 0.8354 - val_loss: 0.3735 - val_acc: 0.8667\n",
      "Epoch 3/50\n",
      "48000/48000 [==============================] - 3s 57us/sample - loss: 0.3722 - acc: 0.8634 - val_loss: 0.3441 - val_acc: 0.8683\n",
      "Epoch 4/50\n",
      "48000/48000 [==============================] - 3s 58us/sample - loss: 0.3358 - acc: 0.8774 - val_loss: 0.3233 - val_acc: 0.8817\n",
      "Epoch 5/50\n",
      "48000/48000 [==============================] - 3s 57us/sample - loss: 0.3091 - acc: 0.8854 - val_loss: 0.3114 - val_acc: 0.8886\n",
      "Epoch 6/50\n",
      "48000/48000 [==============================] - 3s 56us/sample - loss: 0.2974 - acc: 0.8900 - val_loss: 0.2937 - val_acc: 0.8923\n",
      "Epoch 7/50\n",
      "48000/48000 [==============================] - 3s 57us/sample - loss: 0.2770 - acc: 0.8974 - val_loss: 0.3050 - val_acc: 0.8876\n",
      "Epoch 8/50\n",
      "48000/48000 [==============================] - 3s 57us/sample - loss: 0.2718 - acc: 0.8992 - val_loss: 0.2955 - val_acc: 0.8940\n",
      "Epoch 9/50\n",
      "48000/48000 [==============================] - 3s 58us/sample - loss: 0.2621 - acc: 0.9019 - val_loss: 0.2943 - val_acc: 0.8949\n",
      "Epoch 10/50\n",
      "48000/48000 [==============================] - 3s 57us/sample - loss: 0.2491 - acc: 0.9075 - val_loss: 0.3009 - val_acc: 0.8868\n",
      "Epoch 11/50\n",
      "48000/48000 [==============================] - 3s 56us/sample - loss: 0.2429 - acc: 0.9090 - val_loss: 0.2835 - val_acc: 0.8949\n",
      "Epoch 12/50\n",
      "48000/48000 [==============================] - 3s 56us/sample - loss: 0.2389 - acc: 0.9102 - val_loss: 0.2723 - val_acc: 0.9010\n",
      "Epoch 13/50\n",
      "48000/48000 [==============================] - 3s 57us/sample - loss: 0.2351 - acc: 0.9132 - val_loss: 0.2657 - val_acc: 0.9038\n",
      "Epoch 14/50\n",
      "48000/48000 [==============================] - 3s 56us/sample - loss: 0.2270 - acc: 0.9147 - val_loss: 0.2756 - val_acc: 0.9013\n",
      "Epoch 15/50\n",
      "48000/48000 [==============================] - 3s 56us/sample - loss: 0.2242 - acc: 0.9163 - val_loss: 0.2732 - val_acc: 0.9022\n",
      "Epoch 16/50\n",
      "48000/48000 [==============================] - 3s 56us/sample - loss: 0.2192 - acc: 0.9184 - val_loss: 0.2806 - val_acc: 0.8997\n",
      "Epoch 17/50\n",
      "48000/48000 [==============================] - 3s 56us/sample - loss: 0.2148 - acc: 0.9206 - val_loss: 0.2952 - val_acc: 0.8886\n",
      "Epoch 18/50\n",
      "48000/48000 [==============================] - 3s 57us/sample - loss: 0.2096 - acc: 0.9211 - val_loss: 0.2823 - val_acc: 0.9015\n",
      "Epoch 19/50\n",
      "48000/48000 [==============================] - 3s 57us/sample - loss: 0.2069 - acc: 0.9234 - val_loss: 0.2701 - val_acc: 0.9054\n",
      "Epoch 20/50\n",
      "48000/48000 [==============================] - 3s 56us/sample - loss: 0.2047 - acc: 0.9232 - val_loss: 0.2696 - val_acc: 0.9051\n",
      "Epoch 21/50\n",
      "48000/48000 [==============================] - 3s 57us/sample - loss: 0.2054 - acc: 0.9246 - val_loss: 0.2727 - val_acc: 0.9022\n",
      "Epoch 22/50\n",
      "48000/48000 [==============================] - 3s 56us/sample - loss: 0.1980 - acc: 0.9274 - val_loss: 0.3048 - val_acc: 0.8906\n",
      "Epoch 23/50\n",
      "48000/48000 [==============================] - 3s 56us/sample - loss: 0.1955 - acc: 0.9273 - val_loss: 0.2791 - val_acc: 0.9072\n",
      "Epoch 24/50\n",
      "48000/48000 [==============================] - 3s 56us/sample - loss: 0.1956 - acc: 0.9274 - val_loss: 0.2873 - val_acc: 0.8997\n",
      "Epoch 25/50\n",
      "48000/48000 [==============================] - 3s 56us/sample - loss: 0.1916 - acc: 0.9296 - val_loss: 0.2981 - val_acc: 0.8948\n",
      "Epoch 26/50\n",
      "48000/48000 [==============================] - 3s 57us/sample - loss: 0.1897 - acc: 0.9294 - val_loss: 0.2766 - val_acc: 0.9038\n",
      "Epoch 27/50\n",
      "48000/48000 [==============================] - 3s 56us/sample - loss: 0.1865 - acc: 0.9319 - val_loss: 0.2839 - val_acc: 0.9023\n",
      "Epoch 28/50\n",
      "48000/48000 [==============================] - 3s 57us/sample - loss: 0.1903 - acc: 0.9289 - val_loss: 0.2786 - val_acc: 0.9022\n",
      "Epoch 29/50\n",
      "48000/48000 [==============================] - 3s 56us/sample - loss: 0.1809 - acc: 0.9326 - val_loss: 0.2894 - val_acc: 0.8979\n",
      "Epoch 30/50\n",
      "48000/48000 [==============================] - 3s 56us/sample - loss: 0.1855 - acc: 0.9312 - val_loss: 0.2858 - val_acc: 0.9090\n",
      "Epoch 31/50\n",
      "48000/48000 [==============================] - 3s 56us/sample - loss: 0.1866 - acc: 0.9306 - val_loss: 0.2804 - val_acc: 0.9058\n",
      "Epoch 32/50\n",
      "48000/48000 [==============================] - 3s 56us/sample - loss: 0.1783 - acc: 0.9341 - val_loss: 0.2985 - val_acc: 0.8917\n",
      "Epoch 33/50\n",
      "48000/48000 [==============================] - 3s 56us/sample - loss: 0.1817 - acc: 0.9338 - val_loss: 0.3025 - val_acc: 0.9056\n",
      "Epoch 34/50\n",
      "48000/48000 [==============================] - 3s 57us/sample - loss: 0.1781 - acc: 0.9346 - val_loss: 0.2693 - val_acc: 0.9060\n",
      "Epoch 35/50\n",
      "48000/48000 [==============================] - 3s 56us/sample - loss: 0.1790 - acc: 0.9356 - val_loss: 0.2800 - val_acc: 0.9022\n",
      "Epoch 36/50\n",
      "48000/48000 [==============================] - 3s 57us/sample - loss: 0.1736 - acc: 0.9356 - val_loss: 0.2733 - val_acc: 0.9072\n",
      "Epoch 37/50\n",
      "48000/48000 [==============================] - 3s 57us/sample - loss: 0.1707 - acc: 0.9355 - val_loss: 0.2909 - val_acc: 0.9067\n",
      "Epoch 38/50\n",
      "48000/48000 [==============================] - 3s 56us/sample - loss: 0.1739 - acc: 0.9360 - val_loss: 0.2790 - val_acc: 0.9025\n",
      "Epoch 39/50\n",
      "48000/48000 [==============================] - 3s 56us/sample - loss: 0.1756 - acc: 0.9351 - val_loss: 0.2911 - val_acc: 0.9013\n",
      "Epoch 40/50\n",
      "48000/48000 [==============================] - 3s 56us/sample - loss: 0.1731 - acc: 0.9365 - val_loss: 0.2985 - val_acc: 0.9071\n",
      "Epoch 41/50\n",
      "48000/48000 [==============================] - 3s 56us/sample - loss: 0.1705 - acc: 0.9382 - val_loss: 0.2917 - val_acc: 0.9059\n",
      "Epoch 42/50\n",
      "48000/48000 [==============================] - 3s 56us/sample - loss: 0.1685 - acc: 0.9383 - val_loss: 0.3037 - val_acc: 0.9045\n",
      "Epoch 43/50\n",
      "48000/48000 [==============================] - 3s 57us/sample - loss: 0.1710 - acc: 0.9381 - val_loss: 0.2987 - val_acc: 0.9081\n",
      "Epoch 44/50\n",
      "48000/48000 [==============================] - 3s 57us/sample - loss: 0.1707 - acc: 0.9370 - val_loss: 0.2996 - val_acc: 0.9015\n",
      "Epoch 45/50\n",
      "48000/48000 [==============================] - 3s 56us/sample - loss: 0.1678 - acc: 0.9371 - val_loss: 0.3074 - val_acc: 0.9041\n",
      "Epoch 46/50\n",
      "48000/48000 [==============================] - 3s 57us/sample - loss: 0.1644 - acc: 0.9401 - val_loss: 0.2912 - val_acc: 0.9001\n",
      "Epoch 47/50\n",
      "48000/48000 [==============================] - 3s 56us/sample - loss: 0.1678 - acc: 0.9381 - val_loss: 0.2900 - val_acc: 0.9024\n",
      "Epoch 48/50\n",
      "48000/48000 [==============================] - 3s 56us/sample - loss: 0.1647 - acc: 0.9400 - val_loss: 0.2892 - val_acc: 0.9013\n",
      "Epoch 49/50\n",
      "48000/48000 [==============================] - 3s 56us/sample - loss: 0.1660 - acc: 0.9397 - val_loss: 0.2880 - val_acc: 0.9030\n",
      "Epoch 50/50\n",
      "48000/48000 [==============================] - 3s 56us/sample - loss: 0.1653 - acc: 0.9394 - val_loss: 0.2907 - val_acc: 0.9023\n"
     ]
    }
   ],
   "source": [
    "# Fit model\n",
    "m1_history = model.fit(\n",
    "    x=X_train,\n",
    "    y=y_train,\n",
    "    batch_size=BATCH_SIZE,\n",
    "    epochs=EPOCHS,\n",
    "    validation_data=(X_val, y_val)\n",
    ")"
   ]
  },
  {
   "cell_type": "code",
   "execution_count": 12,
   "metadata": {
    "colab": {
     "base_uri": "https://localhost:8080/",
     "height": 34
    },
    "colab_type": "code",
    "id": "sgpiFIudmapg",
    "outputId": "3f3dbc93-2294-44f8-f95e-8a96acb1b4a6"
   },
   "outputs": [
    {
     "name": "stdout",
     "output_type": "stream",
     "text": [
      "10000/10000 [==============================] - 1s 105us/sample - loss: 0.2794 - acc: 0.9068\n"
     ]
    }
   ],
   "source": [
    "m1_score = model.evaluate(X_test, y_test)"
   ]
  },
  {
   "cell_type": "code",
   "execution_count": null,
   "metadata": {
    "colab": {},
    "colab_type": "code",
    "id": "UaH82j_anMA6"
   },
   "outputs": [],
   "source": [
    "def plot_accuracy(history):\n",
    "    # Accuracy\n",
    "    plt.plot(range(len(history.history[\"acc\"])), history.history[\"acc\"], \"bo\", label=\"Training Accuracy\")\n",
    "    plt.plot(range(len(history.history[\"acc\"])), history.history[\"val_acc\"], \"g\", label=\"Validation Accuracy\")\n",
    "    plt.title(\"Training vs Validation Accuracy\")\n",
    "    plt.legend()\n",
    "    # Loss\n",
    "    plt.figure()\n",
    "    plt.plot(range(len(history.history[\"acc\"])), history.history[\"loss\"], \"bo\", label=\"Training Loss\")\n",
    "    plt.plot(range(len(history.history[\"acc\"])), history.history[\"val_loss\"], \"g\", label=\"Validation Loss\")\n",
    "    plt.title(\"Training vs Validation Loss\")\n",
    "    plt.legend()\n",
    "\n",
    "    plt.show()"
   ]
  },
  {
   "cell_type": "code",
   "execution_count": 23,
   "metadata": {
    "colab": {
     "base_uri": "https://localhost:8080/",
     "height": 545
    },
    "colab_type": "code",
    "id": "1z5ErQ1kp1Pt",
    "outputId": "360b1d26-ffe7-4d33-bc56-8bd56e94ae8a"
   },
   "outputs": [
    {
     "data": {
      "image/png": "[encoded data removed]",
      "text/plain": [
       "<Figure size 432x288 with 1 Axes>"
      ]
     },
     "metadata": {
      "tags": []
     },
     "output_type": "display_data"
    },
    {
     "data": {
      "image/png": "[encoded data removed]",
      "text/plain": [
       "<Figure size 432x288 with 1 Axes>"
      ]
     },
     "metadata": {
      "tags": []
     },
     "output_type": "display_data"
    }
   ],
   "source": [
    "plot_accuracy(m1_history)"
   ]
  },
  {
   "cell_type": "markdown",
   "metadata": {
    "colab_type": "text",
    "id": "ujfv3GoFq7vh"
   },
   "source": [
    "It's obvious from the graphs that my validation accuracy didn't improve much beyond 20 epochs. Neither did the loss. I'll attempt to add an additional convolutional layer and reduce the number of epochs. I'll also adjust the dropout rate to see if that has any affect on the accuracy."
   ]
  },
  {
   "cell_type": "markdown",
   "metadata": {
    "colab_type": "text",
    "id": "-XcebQl3r44Q"
   },
   "source": [
    "## Second Model: 3 Convolutional Layers"
   ]
  },
  {
   "cell_type": "code",
   "execution_count": null,
   "metadata": {
    "colab": {},
    "colab_type": "code",
    "id": "dt24YXzHr9Xq"
   },
   "outputs": [],
   "source": [
    "# model_2 Params\n",
    "BATCH_SIZE = 256\n",
    "NUM_CLASSES = 10\n",
    "EPOCHS = 20\n",
    "\n",
    "# Instantiate model_2 object\n",
    "model_2 = tf.keras.models.Sequential()\n",
    "\n",
    "# First Convolutional Layer\n",
    "model_2.add(layers.Conv2D(\n",
    "    filters=32, \n",
    "    kernel_size=(3, 3), \n",
    "    activation=\"relu\",\n",
    "    input_shape=input_shape)\n",
    ")\n",
    "model_2.add(layers.MaxPool2D())\n",
    "model_2.add(layers.Dropout(0.2))\n",
    "\n",
    "# Second Conv Layer\n",
    "model_2.add(layers.Conv2D(filters=64, kernel_size=(3, 3), activation=\"relu\"))\n",
    "model_2.add(layers.MaxPool2D())\n",
    "model_2.add(layers.Dropout(0.2))\n",
    "\n",
    "# Second Conv Layer\n",
    "model_2.add(layers.Conv2D(filters=128, kernel_size=(3, 3), activation=\"relu\"))\n",
    "model_2.add(layers.MaxPool2D())\n",
    "model_2.add(layers.Dropout(0.2))\n",
    "\n",
    "# Flatten\n",
    "model_2.add(layers.Flatten())\n",
    "model_2.add(layers.Dense(128, activation=\"relu\"))\n",
    "model_2.add(layers.Dense(64, activation=\"relu\"))\n",
    "model_2.add(layers.Dense(NUM_CLASSES, activation=\"softmax\"))\n",
    "\n",
    "# Compile\n",
    "model_2.compile(\n",
    "    loss=tf.keras.losses.categorical_crossentropy,\n",
    "    optimizer=tf.keras.optimizers.RMSprop(),\n",
    "    metrics=[\"accuracy\"]\n",
    "    )"
   ]
  },
  {
   "cell_type": "code",
   "execution_count": 25,
   "metadata": {
    "colab": {
     "base_uri": "https://localhost:8080/",
     "height": 729
    },
    "colab_type": "code",
    "id": "CtFw7vuMsz38",
    "outputId": "a7ecffb4-d042-4358-b645-8d261e01f0d9"
   },
   "outputs": [
    {
     "name": "stdout",
     "output_type": "stream",
     "text": [
      "Train on 48000 samples, validate on 12000 samples\n",
      "Epoch 1/20\n",
      "48000/48000 [==============================] - 4s 78us/sample - loss: 1.6613 - acc: 0.6015 - val_loss: 0.6491 - val_acc: 0.7670\n",
      "Epoch 2/20\n",
      "48000/48000 [==============================] - 3s 70us/sample - loss: 0.6324 - acc: 0.7670 - val_loss: 0.4967 - val_acc: 0.8137\n",
      "Epoch 3/20\n",
      "48000/48000 [==============================] - 3s 69us/sample - loss: 0.5270 - acc: 0.8084 - val_loss: 0.4377 - val_acc: 0.8362\n",
      "Epoch 4/20\n",
      "48000/48000 [==============================] - 3s 69us/sample - loss: 0.4770 - acc: 0.8268 - val_loss: 0.4110 - val_acc: 0.8464\n",
      "Epoch 5/20\n",
      "48000/48000 [==============================] - 3s 68us/sample - loss: 0.4467 - acc: 0.8382 - val_loss: 0.4157 - val_acc: 0.8488\n",
      "Epoch 6/20\n",
      "48000/48000 [==============================] - 3s 68us/sample - loss: 0.4193 - acc: 0.8464 - val_loss: 0.3787 - val_acc: 0.8598\n",
      "Epoch 7/20\n",
      "48000/48000 [==============================] - 3s 70us/sample - loss: 0.4007 - acc: 0.8536 - val_loss: 0.3870 - val_acc: 0.8594\n",
      "Epoch 8/20\n",
      "48000/48000 [==============================] - 3s 69us/sample - loss: 0.3918 - acc: 0.8563 - val_loss: 0.3656 - val_acc: 0.8621\n",
      "Epoch 9/20\n",
      "48000/48000 [==============================] - 3s 69us/sample - loss: 0.3788 - acc: 0.8610 - val_loss: 0.3659 - val_acc: 0.8687\n",
      "Epoch 10/20\n",
      "48000/48000 [==============================] - 3s 68us/sample - loss: 0.3648 - acc: 0.8655 - val_loss: 0.3371 - val_acc: 0.8762\n",
      "Epoch 11/20\n",
      "48000/48000 [==============================] - 3s 68us/sample - loss: 0.3583 - acc: 0.8684 - val_loss: 0.3377 - val_acc: 0.8758\n",
      "Epoch 12/20\n",
      "48000/48000 [==============================] - 3s 68us/sample - loss: 0.3509 - acc: 0.8709 - val_loss: 0.3313 - val_acc: 0.8782\n",
      "Epoch 13/20\n",
      "48000/48000 [==============================] - 3s 68us/sample - loss: 0.3461 - acc: 0.8721 - val_loss: 0.3257 - val_acc: 0.8783\n",
      "Epoch 14/20\n",
      "48000/48000 [==============================] - 3s 68us/sample - loss: 0.3389 - acc: 0.8746 - val_loss: 0.3615 - val_acc: 0.8671\n",
      "Epoch 15/20\n",
      "48000/48000 [==============================] - 3s 68us/sample - loss: 0.3322 - acc: 0.8776 - val_loss: 0.3469 - val_acc: 0.8733\n",
      "Epoch 16/20\n",
      "48000/48000 [==============================] - 3s 69us/sample - loss: 0.3285 - acc: 0.8789 - val_loss: 0.3240 - val_acc: 0.8749\n",
      "Epoch 17/20\n",
      "48000/48000 [==============================] - 3s 68us/sample - loss: 0.3250 - acc: 0.8801 - val_loss: 0.3116 - val_acc: 0.8854\n",
      "Epoch 18/20\n",
      "48000/48000 [==============================] - 3s 69us/sample - loss: 0.3148 - acc: 0.8819 - val_loss: 0.3232 - val_acc: 0.8792\n",
      "Epoch 19/20\n",
      "48000/48000 [==============================] - 3s 68us/sample - loss: 0.3201 - acc: 0.8827 - val_loss: 0.3222 - val_acc: 0.8856\n",
      "Epoch 20/20\n",
      "48000/48000 [==============================] - 3s 69us/sample - loss: 0.3163 - acc: 0.8826 - val_loss: 0.3231 - val_acc: 0.8821\n"
     ]
    }
   ],
   "source": [
    "# Fit model\n",
    "m2_history = model_2.fit(\n",
    "    x=X_train,\n",
    "    y=y_train,\n",
    "    batch_size=BATCH_SIZE,\n",
    "    epochs=EPOCHS,\n",
    "    validation_data=(X_val, y_val)\n",
    ")"
   ]
  },
  {
   "cell_type": "code",
   "execution_count": 26,
   "metadata": {
    "colab": {
     "base_uri": "https://localhost:8080/",
     "height": 34
    },
    "colab_type": "code",
    "id": "LyuMjrXitCr-",
    "outputId": "5d69c54e-4bfc-42bc-8626-e9da68893529"
   },
   "outputs": [
    {
     "name": "stdout",
     "output_type": "stream",
     "text": [
      "10000/10000 [==============================] - 1s 117us/sample - loss: 0.3137 - acc: 0.8865\n"
     ]
    }
   ],
   "source": [
    "m2_score = model_2.evaluate(X_test, y_test)"
   ]
  },
  {
   "cell_type": "code",
   "execution_count": 27,
   "metadata": {
    "colab": {
     "base_uri": "https://localhost:8080/",
     "height": 545
    },
    "colab_type": "code",
    "id": "C3VuJhKltZVT",
    "outputId": "7093c2d8-71cb-4d0d-dffc-3c50c854dc9e"
   },
   "outputs": [
    {
     "data": {
      "image/png": "[encoded data removed]",
      "text/plain": [
       "<Figure size 432x288 with 1 Axes>"
      ]
     },
     "metadata": {
      "tags": []
     },
     "output_type": "display_data"
    },
    {
     "data": {
      "image/png": "[encoded data removed]",
      "text/plain": [
       "<Figure size 432x288 with 1 Axes>"
      ]
     },
     "metadata": {
      "tags": []
     },
     "output_type": "display_data"
    }
   ],
   "source": [
    "plot_accuracy(m2_history)"
   ]
  },
  {
   "cell_type": "markdown",
   "metadata": {
    "colab_type": "text",
    "id": "ipb03xabtcX3"
   },
   "source": [
    "# Conclusions / Recommendations  \n",
    "Overall, a very simple model architecture can produce accurate predictions of various clothing items. I would recommend to continue exploring model architecture in order to increase the accuracy without sacrificing an extensive amount of training time. It was evident that a relatively small number of epochs is needed to reach a plateau of sorts."
   ]
  }
 ],
 "metadata": {
  "accelerator": "GPU",
  "colab": {
   "collapsed_sections": [
    "c-nkiOUVtu_s",
    "i_9U1mvK_7YE",
    "b95XwBvK7uy-",
    "u9dUlufH_KIu",
    "akMYDs5pB9L5",
    "gRbpq8Lwtn_Z",
    "281qJbWDfYnH",
    "AXuMUVUAxqj9",
    "-XcebQl3r44Q"
   ],
   "include_colab_link": true,
   "name": "fashion_mnist.ipynb",
   "provenance": [],
   "toc_visible": true
  },
  "kernelspec": {
   "display_name": "Python 3",
   "language": "python",
   "name": "python3"
  },
  "language_info": {
   "codemirror_mode": {
    "name": "ipython",
    "version": 3
   },
   "file_extension": ".py",
   "mimetype": "text/x-python",
   "name": "python",
   "nbconvert_exporter": "python",
   "pygments_lexer": "ipython3",
   "version": "3.7.3"
  }
 },
 "nbformat": 4,
 "nbformat_minor": 4
}
