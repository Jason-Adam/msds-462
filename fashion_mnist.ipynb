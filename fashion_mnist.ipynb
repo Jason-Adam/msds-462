{
  "nbformat": 4,
  "nbformat_minor": 0,
  "metadata": {
    "colab": {
      "name": "fashion_mnist.ipynb",
      "provenance": [],
      "toc_visible": true,
      "include_colab_link": true
    },
    "kernelspec": {
      "name": "python3",
      "display_name": "Python 3"
    }
  },
  "cells": [
    {
      "cell_type": "markdown",
      "metadata": {
        "id": "view-in-github",
        "colab_type": "text"
      },
      "source": [
        "<a href=\"https://colab.research.google.com/github/Jason-Adam/msds-462/blob/master/fashion_mnist.ipynb\" target=\"_parent\"><img src=\"https://colab.research.google.com/assets/colab-badge.svg\" alt=\"Open In Colab\"/></a>"
      ]
    },
    {
      "cell_type": "markdown",
      "metadata": {
        "id": "6pa9_rrL5TRK",
        "colab_type": "text"
      },
      "source": [
        "# MSDS-462 Week 1: Fashion MNIST Classification  \n",
        "Objective: Build a classification model on the Kaggle Fashion MNIST Data Set \n",
        "\n",
        "# Initial Imports / Data Ingestion"
      ]
    },
    {
      "cell_type": "markdown",
      "metadata": {
        "id": "i_9U1mvK_7YE",
        "colab_type": "text"
      },
      "source": [
        "## Initial Imports"
      ]
    },
    {
      "cell_type": "code",
      "metadata": {
        "id": "TrTJZEPO_9pZ",
        "colab_type": "code",
        "colab": {}
      },
      "source": [
        "import pandas as pd\n",
        "import numpy as np\n",
        "import tensorflow as tf\n",
        "import tensorflow.keras as keras"
      ],
      "execution_count": 0,
      "outputs": []
    },
    {
      "cell_type": "markdown",
      "metadata": {
        "id": "b95XwBvK7uy-",
        "colab_type": "text"
      },
      "source": [
        "## Wire Up Gdrive"
      ]
    },
    {
      "cell_type": "code",
      "metadata": {
        "id": "BBH2gQVE8Bf-",
        "colab_type": "code",
        "colab": {
          "base_uri": "https://localhost:8080/",
          "height": 124
        },
        "outputId": "bacaebf2-51cd-47b1-8fe6-3efc2033f00f"
      },
      "source": [
        "# Mount Gdrive\n",
        "from google.colab import drive\n",
        "drive.mount(\"/content/gdrive\")"
      ],
      "execution_count": 1,
      "outputs": [
        {
          "output_type": "stream",
          "text": [
            "Go to this URL in a browser: https://accounts.google.com/o/oauth2/auth?client_id=947318989803-6bn6qk8qdgf4n4g3pfee6491hc0brc4i.apps.googleusercontent.com&redirect_uri=urn%3Aietf%3Awg%3Aoauth%3A2.0%3Aoob&scope=email%20https%3A%2F%2Fwww.googleapis.com%2Fauth%2Fdocs.test%20https%3A%2F%2Fwww.googleapis.com%2Fauth%2Fdrive%20https%3A%2F%2Fwww.googleapis.com%2Fauth%2Fdrive.photos.readonly%20https%3A%2F%2Fwww.googleapis.com%2Fauth%2Fpeopleapi.readonly&response_type=code\n",
            "\n",
            "Enter your authorization code:\n",
            "··········\n",
            "Mounted at /content/gdrive\n"
          ],
          "name": "stdout"
        }
      ]
    },
    {
      "cell_type": "code",
      "metadata": {
        "id": "xMiuyTvA9u55",
        "colab_type": "code",
        "colab": {
          "base_uri": "https://localhost:8080/",
          "height": 52
        },
        "outputId": "547f92fe-d252-4154-af25-4f836f26a707"
      },
      "source": [
        "!ls /content/gdrive/My\\ Drive/data/fashion_mnist/"
      ],
      "execution_count": 9,
      "outputs": [
        {
          "output_type": "stream",
          "text": [
            "fashion-mnist_test.csv\t t10k-images-idx3-ubyte  train-images-idx3-ubyte\n",
            "fashion-mnist_train.csv  t10k-labels-idx1-ubyte  train-labels-idx1-ubyte\n"
          ],
          "name": "stdout"
        }
      ]
    },
    {
      "cell_type": "markdown",
      "metadata": {
        "id": "u9dUlufH_KIu",
        "colab_type": "text"
      },
      "source": [
        "## Data Ingest"
      ]
    },
    {
      "cell_type": "code",
      "metadata": {
        "id": "6YcN48Oe_oy7",
        "colab_type": "code",
        "colab": {}
      },
      "source": [
        "train_df = pd.read_csv(\"/content/gdrive/My Drive/data/fashion_mnist/fashion-mnist_train.csv\")\n",
        "test_df = pd.read_csv(\"/content/gdrive/My Drive/data/fashion_mnist/fashion-mnist_test.csv\")"
      ],
      "execution_count": 0,
      "outputs": []
    },
    {
      "cell_type": "code",
      "metadata": {
        "id": "OYkGUMs1ApJZ",
        "colab_type": "code",
        "colab": {
          "base_uri": "https://localhost:8080/",
          "height": 34
        },
        "outputId": "91619d3a-5887-4f00-d7d6-4ae301bf1481"
      },
      "source": [
        "train_df.shape"
      ],
      "execution_count": 18,
      "outputs": [
        {
          "output_type": "execute_result",
          "data": {
            "text/plain": [
              "(60000, 785)"
            ]
          },
          "metadata": {
            "tags": []
          },
          "execution_count": 18
        }
      ]
    },
    {
      "cell_type": "code",
      "metadata": {
        "id": "xh6JC8kRBGCf",
        "colab_type": "code",
        "colab": {}
      },
      "source": [
        ""
      ],
      "execution_count": 0,
      "outputs": []
    }
  ]
}