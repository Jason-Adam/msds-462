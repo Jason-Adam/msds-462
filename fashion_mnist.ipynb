{
  "nbformat": 4,
  "nbformat_minor": 0,
  "metadata": {
    "colab": {
      "name": "fashion_mnist.ipynb",
      "provenance": [],
      "include_colab_link": true
    },
    "kernelspec": {
      "name": "python3",
      "display_name": "Python 3"
    }
  },
  "cells": [
    {
      "cell_type": "markdown",
      "metadata": {
        "id": "view-in-github",
        "colab_type": "text"
      },
      "source": [
        "<a href=\"https://colab.research.google.com/github/Jason-Adam/msds-462/blob/master/fashion_mnist.ipynb\" target=\"_parent\"><img src=\"https://colab.research.google.com/assets/colab-badge.svg\" alt=\"Open In Colab\"/></a>"
      ]
    },
    {
      "cell_type": "markdown",
      "metadata": {
        "id": "6pa9_rrL5TRK",
        "colab_type": "text"
      },
      "source": [
        "# MSDS-462 Week 1: Fashion MNIST Classification  \n",
        "Objective: Build a classification model on the Kaggle Fashion MNIST Data Set"
      ]
    },
    {
      "cell_type": "code",
      "metadata": {
        "id": "5VW1Kedh44gQ",
        "colab_type": "code",
        "colab": {}
      },
      "source": [
        "# Imports\n"
      ],
      "execution_count": 0,
      "outputs": []
    }
  ]
}