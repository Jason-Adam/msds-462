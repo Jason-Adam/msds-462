{
 "cells": [
  {
   "cell_type": "markdown",
   "metadata": {},
   "source": [
    "# MSDS-462 Week 3: Cloud Computer Vision API  \n",
    "Objective: Utilize a cloud computer vision API.  \n",
    "For this week I chose to try the [GCP cloud vision API](https://cloud.google.com/vision/docs/face-tutorial).  \n",
    "\n",
    "The API requires some initial setup with GCP. Instructions for authentication can be found [here](https://cloud.google.com/docs/authentication/getting-started)."
   ]
  },
  {
   "cell_type": "markdown",
   "metadata": {},
   "source": [
    "## Imports"
   ]
  },
  {
   "cell_type": "code",
   "execution_count": null,
   "metadata": {},
   "outputs": [],
   "source": [
    "import os\n",
    "\n",
    "from google.cloud import vision\n",
    "from google.cloud.vision import types\n",
    "from PIL import Image, ImageDraw"
   ]
  },
  {
   "cell_type": "markdown",
   "metadata": {},
   "source": [
    "## Processing Functions"
   ]
  },
  {
   "cell_type": "code",
   "execution_count": null,
   "metadata": {},
   "outputs": [],
   "source": [
    "def detect_face(face_file, max_results=4):\n",
    "    \"\"\"Uses the Vision API to detect faces in the given file.\n",
    "\n",
    "    Args:\n",
    "        face_file: A file-like object containing an image with faces.\n",
    "\n",
    "    Returns:\n",
    "        An array of Face objects with information about the picture.\n",
    "    \"\"\"\n",
    "    client = vision.ImageAnnotatorClient()\n",
    "\n",
    "    content = face_file.read()\n",
    "    image = types.Image(content=content)\n",
    "\n",
    "    return client.face_detection(image=image, max_results=max_results).face_annotations\n",
    "\n",
    "\n",
    "def highlight_faces(image, faces, output_filename):\n",
    "    \"\"\"Draws a polygon around the faces, then saves to output_filename.\n",
    "\n",
    "    Args:\n",
    "      image: a file containing the image with the faces.\n",
    "      faces: a list of faces found in the file. This should be in the format\n",
    "          returned by the Vision API.\n",
    "      output_filename: the name of the image file to be created, where the\n",
    "          faces have polygons drawn around them.\n",
    "    \"\"\"\n",
    "    im = Image.open(image)\n",
    "    draw = ImageDraw.Draw(im)\n",
    "    # Sepecify the font-family and the font-size\n",
    "    for face in faces:\n",
    "        box = [(vertex.x, vertex.y) for vertex in face.bounding_poly.vertices]\n",
    "        draw.line(box + [box[0]], width=5, fill=\"#00ff00\")\n",
    "        # Place the confidence value/score of the detected faces above the\n",
    "        # detection box in the output image\n",
    "        draw.text(\n",
    "            (\n",
    "                (face.bounding_poly.vertices)[0].x,\n",
    "                (face.bounding_poly.vertices)[0].y - 30,\n",
    "            ),\n",
    "            str(format(face.detection_confidence, \".3f\")) + \"%\",\n",
    "            fill=\"#FF0000\",\n",
    "        )\n",
    "    im.save(output_filename)"
   ]
  },
  {
   "cell_type": "code",
   "execution_count": null,
   "metadata": {},
   "outputs": [],
   "source": [
    "def call_vision_api(input_filename, output_filename, max_results):\n",
    "    with open(input_filename, \"rb\") as image:\n",
    "        faces = detect_face(image, max_results)\n",
    "        print(\"Found {} face{}\".format(len(faces), \"\" if len(faces) == 1 else \"s\"))\n",
    "\n",
    "        print(\"Writing to file {}\".format(output_filename))\n",
    "        # Reset the file pointer, so we can read the file again\n",
    "        image.seek(0)\n",
    "        highlight_faces(image, faces, output_filename)"
   ]
  },
  {
   "cell_type": "markdown",
   "metadata": {},
   "source": [
    "## Call the API"
   ]
  },
  {
   "cell_type": "code",
   "execution_count": null,
   "metadata": {},
   "outputs": [],
   "source": [
    "file_name = os.path.abspath(\"img/random_people.jpg\")\n",
    "call_vision_api(input_filename=file_name, output_filename=\"img/facial_test_response_random_people.jpg\", max_results=6)"
   ]
  },
  {
   "cell_type": "markdown",
   "metadata": {},
   "source": [
    "## Example  \n",
    "### Original Photo  \n",
    "![](img/random_people.jpg)  \n",
    "### Face Detection  \n",
    "![](img/facial_test_response_random_people.jpg)"
   ]
  }
 ],
 "metadata": {
  "kernelspec": {
   "display_name": "msds-462",
   "language": "python",
   "name": "msds-462"
  },
  "language_info": {
   "codemirror_mode": {
    "name": "ipython",
    "version": 3
   },
   "file_extension": ".py",
   "mimetype": "text/x-python",
   "name": "python",
   "nbconvert_exporter": "python",
   "pygments_lexer": "ipython3",
   "version": "3.7.3"
  }
 },
 "nbformat": 4,
 "nbformat_minor": 4
}
